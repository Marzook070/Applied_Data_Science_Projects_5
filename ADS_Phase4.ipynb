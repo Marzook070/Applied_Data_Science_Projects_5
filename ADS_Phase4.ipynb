{
 "cells": [
  {
   "cell_type": "code",
   "execution_count": 60,
   "id": "44c691e3",
   "metadata": {},
   "outputs": [],
   "source": [
    "#import necessary libararies\n",
    "import numpy as np\n",
    "import pandas as pd\n",
    "import matplotlib.pyplot as plt\n",
    "import seaborn as sns\n",
    "from sklearn.model_selection import train_test_split\n",
    "from sklearn.preprocessing import StandardScaler\n",
    "from sklearn.linear_model import LinearRegression\n",
    "from sklearn.metrics import mean_squared_error,r2_score\n",
    "import matplotlib.pyplot as plt"
   ]
  },
  {
   "cell_type": "code",
   "execution_count": 61,
   "id": "2f11605d",
   "metadata": {},
   "outputs": [],
   "source": [
    "#Load the dataset\n",
    "df = pd.read_csv(\"C:/Users/91720/OneDrive/Documents/IMDb_dataset.csv\", encoding='ISO-8859-1')\n"
   ]
  },
  {
   "cell_type": "code",
   "execution_count": 62,
   "id": "4f7e8a2e",
   "metadata": {},
   "outputs": [],
   "source": [
    "#explore the loaded dataset to get an overview of its structure and contents:"
   ]
  },
  {
   "cell_type": "code",
   "execution_count": 63,
   "id": "d69890c3",
   "metadata": {},
   "outputs": [
    {
     "name": "stdout",
     "output_type": "stream",
     "text": [
      "             Title                  Genre           Premiere  Runtime  \\\n",
      "0  Enter the Anime            Documentary     August 5, 2019       58   \n",
      "1      Dark Forces               Thriller    August 21, 2020       81   \n",
      "2          The App  Science fiction/Drama  December 26, 2019       79   \n",
      "3   The Open House        Horror thriller   January 19, 2018       94   \n",
      "4      Kaali Khuhi                Mystery   October 30, 2020       90   \n",
      "\n",
      "   IMDB Score          Language  \n",
      "0         2.5  English/Japanese  \n",
      "1         2.6           Spanish  \n",
      "2         2.6           Italian  \n",
      "3         3.2           English  \n",
      "4         3.4             Hindi  \n"
     ]
    }
   ],
   "source": [
    "#display the first rows of the dataframe\n",
    "print(df.head())"
   ]
  },
  {
   "cell_type": "code",
   "execution_count": 64,
   "id": "3ffad414",
   "metadata": {},
   "outputs": [
    {
     "name": "stdout",
     "output_type": "stream",
     "text": [
      "<class 'pandas.core.frame.DataFrame'>\n",
      "RangeIndex: 584 entries, 0 to 583\n",
      "Data columns (total 6 columns):\n",
      " #   Column      Non-Null Count  Dtype  \n",
      "---  ------      --------------  -----  \n",
      " 0   Title       584 non-null    object \n",
      " 1   Genre       584 non-null    object \n",
      " 2   Premiere    584 non-null    object \n",
      " 3   Runtime     584 non-null    int64  \n",
      " 4   IMDB Score  584 non-null    float64\n",
      " 5   Language    584 non-null    object \n",
      "dtypes: float64(1), int64(1), object(4)\n",
      "memory usage: 27.5+ KB\n",
      "None\n"
     ]
    }
   ],
   "source": [
    "#display basic information about the dataframe\n",
    "print(df.info())"
   ]
  },
  {
   "cell_type": "code",
   "execution_count": 65,
   "id": "88ca0c05",
   "metadata": {},
   "outputs": [
    {
     "name": "stdout",
     "output_type": "stream",
     "text": [
      "          Runtime  IMDB Score\n",
      "count  584.000000  584.000000\n",
      "mean    93.577055    6.271747\n",
      "std     27.761683    0.979256\n",
      "min      4.000000    2.500000\n",
      "25%     86.000000    5.700000\n",
      "50%     97.000000    6.350000\n",
      "75%    108.000000    7.000000\n",
      "max    209.000000    9.000000\n"
     ]
    }
   ],
   "source": [
    "#display summary statistics\n",
    "print(df.describe())"
   ]
  },
  {
   "cell_type": "code",
   "execution_count": 66,
   "id": "91f20de7",
   "metadata": {},
   "outputs": [],
   "source": [
    "#data preprocessing"
   ]
  },
  {
   "cell_type": "code",
   "execution_count": 67,
   "id": "8e023a27",
   "metadata": {},
   "outputs": [
    {
     "name": "stdout",
     "output_type": "stream",
     "text": [
      "Title         0\n",
      "Genre         0\n",
      "Premiere      0\n",
      "Runtime       0\n",
      "IMDB Score    0\n",
      "Language      0\n",
      "dtype: int64\n"
     ]
    }
   ],
   "source": [
    "#check for missing values\n",
    "print(df.isnull().sum())"
   ]
  },
  {
   "cell_type": "code",
   "execution_count": 68,
   "id": "2037f287",
   "metadata": {},
   "outputs": [],
   "source": [
    "#handle missing values\n",
    "df=df.dropna()"
   ]
  },
  {
   "cell_type": "code",
   "execution_count": 69,
   "id": "9b73ebc8",
   "metadata": {},
   "outputs": [],
   "source": [
    "#remove duplicates\n",
    "df=df.drop_duplicates()"
   ]
  },
  {
   "cell_type": "code",
   "execution_count": 70,
   "id": "9b9c6352",
   "metadata": {},
   "outputs": [],
   "source": [
    "#convert data types\n",
    "#df['column_name']=df['column_name'].astype('desired_type')"
   ]
  },
  {
   "cell_type": "code",
   "execution_count": 71,
   "id": "99a16ef8",
   "metadata": {},
   "outputs": [],
   "source": [
    "#save the dataframe to a new CSV file\n",
    "df.to_csv(r'C:\\Users\\91720\\OneDrive\\Documents\\cleaned_dataset.csv',index=False)"
   ]
  },
  {
   "cell_type": "code",
   "execution_count": 72,
   "id": "810e920f",
   "metadata": {},
   "outputs": [],
   "source": [
    "#Data Preprocessing and feature engineering\n",
    "#Assume 'feature1','feature2,feature3' are selected features"
   ]
  },
  {
   "cell_type": "code",
   "execution_count": 88,
   "id": "dc2c5243",
   "metadata": {},
   "outputs": [],
   "source": [
    "X=df[['Title','Genre','Premiere','Runtime']]\n",
    "y=df['IMDB Score']"
   ]
  },
  {
   "cell_type": "code",
   "execution_count": 94,
   "id": "22ead3fd",
   "metadata": {},
   "outputs": [],
   "source": [
    "#data splitting\n",
    "X_train,X_temp,y_train,y_temp=train_test_split(x,y,test_size=0.3,random_state=42)\n",
    "X_val,X_test,y_val,y_test=train_test_split(X_temp,y_temp,test_size=0.5,random_state=42)"
   ]
  },
  {
   "cell_type": "code",
   "execution_count": 98,
   "id": "f49e8ada",
   "metadata": {},
   "outputs": [
    {
     "name": "stdout",
     "output_type": "stream",
     "text": [
      "[[ 86 110 111  42 137  94  48 112  97  94  96 117  94  92  98 108 102  79\n",
      "  108  96  94 136  90 126  98  94 100  95  97 155 149  47 100 107  89  86\n",
      "  103  86  14  97 121 119 104  89  83 128  98 120 100  87  55  40  39 142\n",
      "  106  91  89  96 119 131  95  89  63 120  92  98  90 100 101 102  89 105\n",
      "  115 109  10 105 109  28  97  90 111  89  15  99  98 105 108  82  16 147\n",
      "  106 151 117  71 144 101  82 126  94 116 102 136 123  97  30  80 103 105\n",
      "  100  99  72  96  98 132 148  39 130 121 106  41 114  19 129  96  34 124\n",
      "  107  91  99  96 101 103 108 209 108  80  39  78 106  98 105 103  23 101\n",
      "  104  86  86  72  97 122  86  21 118 100 102  94 102  94  87  24  95 100\n",
      "   96 104 100  98  97 125  73   9 101  94  94  78 104  92  32 120  60 113\n",
      "   97  96  83  97  53  74 106  39 121  81 102  90  80 103 101  80  83  93\n",
      "  122  97  40  54 112 140 132  91  84  88  97  27  96 104  52 114  70 100\n",
      "   90  90  85  41 116  95 107 121  99 118  32  97  98  89 126 102  49  87\n",
      "  106  94  15  99 124  95  89  98  70 106  56 133 105  49 125  97  98  99\n",
      "  102  83  96  96  84 112  97  88  99  95  99 114 117  99  82  98  85  89\n",
      "   90 124  79 108  94 114  93  99  74 108  92  85 136 105 139 101  90  92\n",
      "  125  83  30 119 104 104  79 113  98  78  92  94 115  88 121  80  83   7\n",
      "  117 100 111  98 107  76  95  95  19 134  96 107 101  80 103  97  31 107\n",
      "  112 103 105  73  21  83  90 113  90  95   4 124 106 131 105  94 104  37\n",
      "  115 106  92 153 111  83 124  85 114  97 144  81 124 112  98  85 100  17\n",
      "  110  92  95  95  17  95 101 125 116  90 104  85  92  85 105  93  93 112\n",
      "   64 102 138  92  97 103  40  86  83  75 111 108  97  91 107 125 101 117\n",
      "  112  73 123 123  87  92  64 117 101 107 109 112]]\n",
      "[[112 144  47 100 106  95 120 129  57  89  70  51 120  85 102 101 104  92\n",
      "   76  40 132 112 135  91 105  81  23  58 108  99  97  95  87  99 112  88\n",
      "   58  89  82  89  85 134  87 118 118  90  89  64  98  25 114  90  98 116\n",
      "   99  87  37 107 149 101  97  36  13 101  90  28 100  87  89 102 121  70\n",
      "  106  98  86  92  26 130  31  91 121  11  89  93 118 103  86  92]]\n",
      "[[ 95  83  46 108 100 104  90  83 100  58  64  92 106  28 100  94  12  97\n",
      "  114  92 107 114  98 103 111 102 131 100  83  84  95 142  93 114 136 118\n",
      "  102  86 101  72  30  94  60  91  97 121  58  85 102  90 104  85 113  94\n",
      "   93 118 132  97  23  79  44 139  80  96 112  94 125 120  40 116 149  92\n",
      "   79 104  86  91  97  89  94  81  95 119  45 151 114 105 108  95]]\n"
     ]
    }
   ],
   "source": [
    "#Reshaping of arrays\n",
    "X_train_np=X_train.to_numpy()\n",
    "X_val_np=X_val.to_numpy()\n",
    "X_test_np=X_test.to_numpy()\n",
    "X_train_np = print(X_train_np.reshape(1, -1))\n",
    "X_val_np = print(X_val_np.reshape(1, -1))\n",
    "X_test_np = print(X_test_np.reshape(1, -1))\n"
   ]
  },
  {
   "cell_type": "code",
   "execution_count": null,
   "id": "a5cf717f",
   "metadata": {},
   "outputs": [],
   "source": [
    "#feature Scaling\n",
    "Scaler=StandardScaler()\n",
    "X_train_np=Scaler.fit_transform(X_train_np)\n",
    "X_val_np=Scaler.transform(X_val_np)\n",
    "X_test_np=Scaler.transform(X_test_np)"
   ]
  },
  {
   "cell_type": "code",
   "execution_count": null,
   "id": "02a11bcd",
   "metadata": {},
   "outputs": [],
   "source": [
    "#model training\n",
    "model=LinearRegression()\n",
    "model.fit(X_train_np,y_train)"
   ]
  },
  {
   "cell_type": "code",
   "execution_count": null,
   "id": "53ec4269",
   "metadata": {},
   "outputs": [],
   "source": [
    "#model evaluation\n",
    "y_pred=model.predict(X_test_np)\n",
    "mse=mean_squared_error(y_test,y_pred)\n",
    "rmse=np.sqrt(mse)\n",
    "r2=r2_score(y_test,y_pred)\n",
    "print(\"Mean Squared Error(MSE) value:\",mse)\n",
    "print(\"Root Mean Squared Error(RMSE) value:\",rmse)\n",
    "print(\"R-squared(R2)score:\",r2)"
   ]
  },
  {
   "cell_type": "code",
   "execution_count": null,
   "id": "e59ce537",
   "metadata": {},
   "outputs": [],
   "source": [
    "#Visualization\n",
    "plt.scatter(y_test,y_pred)\n",
    "plt.xlabel(\"Actual IMDb scores\")\n",
    "plt.ylabel(\"Predicted IMDb scores\")\n",
    "plt.title(\"Actual vs. Predicted IMDb scores\")\n",
    "plt.show()"
   ]
  }
 ],
 "metadata": {
  "kernelspec": {
   "display_name": "Python 3 (ipykernel)",
   "language": "python",
   "name": "python3"
  },
  "language_info": {
   "codemirror_mode": {
    "name": "ipython",
    "version": 3
   },
   "file_extension": ".py",
   "mimetype": "text/x-python",
   "name": "python",
   "nbconvert_exporter": "python",
   "pygments_lexer": "ipython3",
   "version": "3.9.13"
  }
 },
 "nbformat": 4,
 "nbformat_minor": 5
}
